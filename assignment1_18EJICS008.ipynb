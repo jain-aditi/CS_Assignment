{
 "cells": [
  {
   "cell_type": "code",
   "execution_count": null,
   "metadata": {},
   "outputs": [],
   "source": [
    "# 1. Write a program to get a user input in the form of a list data type. Return a list by removing all the duplicates.\n",
    "# Sample Input -> [4, 4, 5, 6, 8, 4, 5]\n",
    "# Output -> [4, 5, 6, 8]\n",
    "# NOTE: Take user input using a for loop\n",
    "\n",
    "lst=[]\n",
    "n=int(input(\"Enter no. of elements : \"))\n",
    "\n",
    "for item in range(1,n+1):\n",
    "    lst.append(int(input(\"Enter element : \")))\n",
    "    \n",
    "lst=list(set(lst))\n",
    "lst.sort()\n",
    "lst"
   ]
  },
  {
   "cell_type": "code",
   "execution_count": null,
   "metadata": {},
   "outputs": [],
   "source": [
    "# 2. Write a program to create a user defined tuple with ‘int’ data type and perform the following operations:\n",
    "#    (a) Find the length of tuples\n",
    "#    (b) Find the sum of all the elements of a tuple\n",
    "#    (c) Find the largest and smallest elements of a tuple\n",
    "\n",
    "lst=[]\n",
    "n=int(input(\"Enter no. of elements : \"))\n",
    "\n",
    "for item in range(0,n):\n",
    "    lst.append(int(input(\"Enter element : \")))\n",
    "lst=tuple(lst)\n",
    "\n",
    "print(\"\\nLength : \",len(lst))\n",
    "print(\"Sum : \",sum(lst))\n",
    "print(\"Largest : \",max(lst))\n",
    "print(\"Smallest : \",min(lst))"
   ]
  },
  {
   "cell_type": "code",
   "execution_count": 1,
   "metadata": {},
   "outputs": [
    {
     "name": "stdout",
     "output_type": "stream",
     "text": [
      "Enter a Number : 13\n",
      "Enter the Bit to Change : 1\n",
      "15\n"
     ]
    }
   ],
   "source": [
    "# 3. Given a number and ith bit, change the ith bit of that number to 1.\n",
    "# Sample Input -> num = 13, i = 1\n",
    "# Output -> 15\n",
    "# Explanation -> 13 can be represented as 1101 in binary. Now if we set the 1st bit of this binary represented value, we will get 1111 (i.e. 15) as output.\n",
    "\n",
    "num=int(input(\"Enter a Number : \"))\n",
    "i=int(input(\"Enter the Bit to Change : \"))\n",
    "mag_num=1<<i\n",
    "newNum=num^mag_num\n",
    "print(newNum)"
   ]
  },
  {
   "cell_type": "code",
   "execution_count": 3,
   "metadata": {},
   "outputs": [
    {
     "name": "stdout",
     "output_type": "stream",
     "text": [
      "Enter a number : 1000205678\n"
     ]
    },
    {
     "data": {
      "text/plain": [
       "0"
      ]
     },
     "execution_count": 3,
     "metadata": {},
     "output_type": "execute_result"
    }
   ],
   "source": [
    "# 4. Given a number, print 1 if the number is odd otherwise print 0.\n",
    "# NOTE: Try to do this program without the use of if else statement.\n",
    "\n",
    "x=int(input(\"Enter a number : \"))\n",
    "\n",
    "x%2"
   ]
  },
  {
   "cell_type": "code",
   "execution_count": 7,
   "metadata": {},
   "outputs": [
    {
     "data": {
      "text/plain": [
       "[1, 3, 5, 7, 9, 12, 13, 19]"
      ]
     },
     "execution_count": 7,
     "metadata": {},
     "output_type": "execute_result"
    }
   ],
   "source": [
    "# 5. Given two lists of integers A and B. Write a program to merge them into a single sorted list that contains every item from list A and B in ascending order.\n",
    "\n",
    "lst1=[1,3,9,12]\n",
    "lst2=[5,9,3,19,13,7]\n",
    "\n",
    "lst1=set(lst1)\n",
    "lst2=set(lst2)\n",
    "\n",
    "mlist=lst1.union(lst2)\n",
    "\n",
    "mlist=list(mlist)\n",
    "\n",
    "mlist.sort()\n",
    "\n",
    "mlist"
   ]
  },
  {
   "cell_type": "code",
   "execution_count": 1,
   "metadata": {},
   "outputs": [
    {
     "name": "stdout",
     "output_type": "stream",
     "text": [
      "{'Berlin': 70, 'Oslo': 0, 'Moscow': 50, 'Nairobi': 100}\n"
     ]
    }
   ],
   "source": [
    "# 6. Create a user defined dictionary to store names and marks of 5 students. Sort the dictionary according to marks and return this sorted dictionary to the user.\n",
    "# Sample Input -> {'Berlin': 70, 'Oslo':0, 'Moscow':50, 'Nairobi':100}\n",
    "# Output -> {'Oslo':0, 'Moscow':50, 'Berlin': 70, 'Nairobi':100}\n",
    "\n",
    "dict1={'Berlin': 70, 'Oslo':0, 'Moscow':50, 'Nairobi':100}\n",
    "lst=list(dict1.items())\n",
    "\n",
    "#for item in lst:\n",
    "    \n",
    "print(lst)\n"
   ]
  },
  {
   "cell_type": "code",
   "execution_count": null,
   "metadata": {},
   "outputs": [],
   "source": []
  }
 ],
 "metadata": {
  "kernelspec": {
   "display_name": "Python 3",
   "language": "python",
   "name": "python3"
  },
  "language_info": {
   "codemirror_mode": {
    "name": "ipython",
    "version": 3
   },
   "file_extension": ".py",
   "mimetype": "text/x-python",
   "name": "python",
   "nbconvert_exporter": "python",
   "pygments_lexer": "ipython3",
   "version": "3.7.6"
  }
 },
 "nbformat": 4,
 "nbformat_minor": 4
}
